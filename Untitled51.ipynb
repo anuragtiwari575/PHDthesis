{
 "cells": [
  {
   "cell_type": "code",
   "execution_count": 4,
   "id": "4562a5f0",
   "metadata": {},
   "outputs": [
    {
     "data": {
      "text/plain": [
       "(40000, 371)"
      ]
     },
     "execution_count": 4,
     "metadata": {},
     "output_type": "execute_result"
    }
   ],
   "source": [
    "import pandas as pd\n",
    "import numpy as np\n",
    "from sklearn.model_selection import train_test_split\n",
    "\n",
    "data = pd.read_csv(\"C:\\\\Users\\\\acer\\\\Desktop\\\\Project Code\\\\Sample Code for Filter-based method- Chapter 2\\\\Standard Customer Data.csv\", nrows=40000) \n",
    "data.shape"
   ]
  },
  {
   "cell_type": "code",
   "execution_count": 5,
   "id": "9a54644e",
   "metadata": {},
   "outputs": [],
   "source": [
    "train_x, test_x, train_y, test_y= train_test_split(data.drop(\"TARGET\",axis=1),data.TARGET,test_size=0.2,random_state=41)"
   ]
  },
  {
   "cell_type": "code",
   "execution_count": 8,
   "id": "b29c8a9f",
   "metadata": {},
   "outputs": [
    {
     "name": "stdout",
     "output_type": "stream",
     "text": [
      "(32000, 320)\n"
     ]
    }
   ],
   "source": [
    "from sklearn.feature_selection import VarianceThreshold\n",
    "constant_filter = VarianceThreshold(threshold=0)\n",
    "data_constant = constant_filter.fit_transform(train_x)\n",
    "print(data_constant.shape)\n",
    "constant_columns = [column for column in train_x.columns\n",
    "                    if column not in train_x.columns[constant_filter.get_support()]]"
   ]
  },
  {
   "cell_type": "code",
   "execution_count": 9,
   "id": "6011d311",
   "metadata": {},
   "outputs": [
    {
     "name": "stdout",
     "output_type": "stream",
     "text": [
      "50\n"
     ]
    }
   ],
   "source": [
    "print(len(constant_columns))"
   ]
  },
  {
   "cell_type": "code",
   "execution_count": 10,
   "id": "aa01ecb7",
   "metadata": {},
   "outputs": [
    {
     "name": "stdout",
     "output_type": "stream",
     "text": [
      "ind_var2_0\n",
      "ind_var2\n",
      "ind_var18_0\n",
      "ind_var18\n",
      "ind_var27_0\n",
      "ind_var28_0\n",
      "ind_var28\n",
      "ind_var27\n",
      "ind_var34_0\n",
      "ind_var34\n",
      "ind_var41\n",
      "ind_var46_0\n",
      "ind_var46\n",
      "num_var18_0\n",
      "num_var18\n",
      "num_var27_0\n",
      "num_var28_0\n",
      "num_var28\n",
      "num_var27\n",
      "num_var34_0\n",
      "num_var34\n",
      "num_var41\n",
      "num_var46_0\n",
      "num_var46\n",
      "saldo_var18\n",
      "saldo_var28\n",
      "saldo_var27\n",
      "saldo_var34\n",
      "saldo_var41\n",
      "saldo_var46\n",
      "delta_imp_amort_var18_1y3\n",
      "delta_imp_amort_var34_1y3\n",
      "imp_amort_var18_hace3\n",
      "imp_amort_var18_ult1\n",
      "imp_amort_var34_hace3\n",
      "imp_amort_var34_ult1\n",
      "imp_reemb_var13_hace3\n",
      "imp_reemb_var17_hace3\n",
      "imp_reemb_var33_hace3\n",
      "imp_trasp_var17_out_hace3\n",
      "imp_trasp_var33_out_hace3\n",
      "num_var2_0_ult1\n",
      "num_var2_ult1\n",
      "num_reemb_var13_hace3\n",
      "num_reemb_var17_hace3\n",
      "num_reemb_var33_hace3\n",
      "num_trasp_var17_out_hace3\n",
      "num_trasp_var33_out_hace3\n",
      "saldo_var2_ult1\n",
      "saldo_medio_var13_medio_hace3\n"
     ]
    }
   ],
   "source": [
    "for column in constant_columns:\n",
    "    print(column)"
   ]
  },
  {
   "cell_type": "code",
   "execution_count": 11,
   "id": "6e8c8d26",
   "metadata": {},
   "outputs": [
    {
     "data": {
      "text/plain": [
       "(40000, 321)"
      ]
     },
     "execution_count": 11,
     "metadata": {},
     "output_type": "execute_result"
    }
   ],
   "source": [
    "data_cons = data.drop(constant_columns,axis=1)\n",
    "data_cons.shape"
   ]
  },
  {
   "cell_type": "code",
   "execution_count": 15,
   "id": "164b9751",
   "metadata": {},
   "outputs": [
    {
     "name": "stdout",
     "output_type": "stream",
     "text": [
      "(32000, 265)\n",
      "(32000, 265)\n",
      "105\n",
      "ind_var1\n",
      "ind_var2_0\n",
      "ind_var2\n",
      "ind_var6_0\n",
      "ind_var6\n",
      "ind_var13_largo\n",
      "ind_var13_medio_0\n",
      "ind_var13_medio\n",
      "ind_var14\n",
      "ind_var17_0\n",
      "ind_var17\n",
      "ind_var18_0\n",
      "ind_var18\n",
      "ind_var19\n",
      "ind_var20_0\n",
      "ind_var20\n",
      "ind_var27_0\n",
      "ind_var28_0\n",
      "ind_var28\n",
      "ind_var27\n",
      "ind_var29_0\n",
      "ind_var29\n",
      "ind_var30_0\n",
      "ind_var31_0\n",
      "ind_var31\n",
      "ind_var32_cte\n",
      "ind_var32_0\n",
      "ind_var32\n",
      "ind_var33_0\n",
      "ind_var33\n",
      "ind_var34_0\n",
      "ind_var34\n",
      "ind_var40\n",
      "ind_var41\n",
      "ind_var39\n",
      "ind_var44_0\n",
      "ind_var44\n",
      "ind_var46_0\n",
      "ind_var46\n",
      "num_var6_0\n",
      "num_var6\n",
      "num_var13_medio_0\n",
      "num_var13_medio\n",
      "num_var18_0\n",
      "num_var18\n",
      "num_op_var40_hace3\n",
      "num_var27_0\n",
      "num_var28_0\n",
      "num_var28\n",
      "num_var27\n",
      "num_var29_0\n",
      "num_var29\n",
      "num_var34_0\n",
      "num_var34\n",
      "num_var41\n",
      "num_var46_0\n",
      "num_var46\n",
      "saldo_var18\n",
      "saldo_var28\n",
      "saldo_var27\n",
      "saldo_var34\n",
      "saldo_var41\n",
      "saldo_var46\n",
      "delta_imp_amort_var18_1y3\n",
      "delta_imp_amort_var34_1y3\n",
      "delta_imp_aport_var33_1y3\n",
      "delta_num_aport_var33_1y3\n",
      "imp_amort_var18_hace3\n",
      "imp_amort_var18_ult1\n",
      "imp_amort_var34_hace3\n",
      "imp_amort_var34_ult1\n",
      "imp_reemb_var13_hace3\n",
      "imp_reemb_var17_hace3\n",
      "imp_reemb_var33_hace3\n",
      "imp_trasp_var17_out_hace3\n",
      "imp_trasp_var33_out_hace3\n",
      "ind_var7_emit_ult1\n",
      "ind_var7_recib_ult1\n",
      "num_var2_0_ult1\n",
      "num_var2_ult1\n",
      "num_aport_var33_hace3\n",
      "num_aport_var33_ult1\n",
      "num_var7_emit_ult1\n",
      "num_meses_var13_medio_ult3\n",
      "num_meses_var17_ult3\n",
      "num_meses_var29_ult3\n",
      "num_meses_var33_ult3\n",
      "num_meses_var44_ult3\n",
      "num_reemb_var13_hace3\n",
      "num_reemb_var13_ult1\n",
      "num_reemb_var17_hace3\n",
      "num_reemb_var17_ult1\n",
      "num_reemb_var33_hace3\n",
      "num_reemb_var33_ult1\n",
      "num_trasp_var17_in_hace3\n",
      "num_trasp_var17_in_ult1\n",
      "num_trasp_var17_out_hace3\n",
      "num_trasp_var17_out_ult1\n",
      "num_trasp_var33_in_hace3\n",
      "num_trasp_var33_in_ult1\n",
      "num_trasp_var33_out_hace3\n",
      "num_trasp_var33_out_ult1\n",
      "num_venta_var44_hace3\n",
      "saldo_var2_ult1\n",
      "saldo_medio_var13_medio_hace3\n"
     ]
    }
   ],
   "source": [
    "qcons_filter = VarianceThreshold(threshold=0.01)\n",
    "data_qcons = qcons_filter.fit_transform(train_x)\n",
    "print(data_qcons.shape)\n",
    "data_qcons = qcons_filter.fit_transform(train_x)\n",
    "print(data_qcons.shape)\n",
    "qcons_columns = [column for column in train_x.columns\n",
    "                    if column not in train_x.columns[qcons_filter.get_support()]]\n",
    "print(len(qcons_columns))\n",
    "for column in qcons_columns:\n",
    "    print(column)"
   ]
  },
  {
   "cell_type": "code",
   "execution_count": 16,
   "id": "13d21d48",
   "metadata": {},
   "outputs": [
    {
     "data": {
      "text/plain": [
       "(40000, 266)"
      ]
     },
     "execution_count": 16,
     "metadata": {},
     "output_type": "execute_result"
    }
   ],
   "source": [
    "data_qcons = data.drop(qcons_columns,axis=1)\n",
    "data_qcons.shape"
   ]
  },
  {
   "cell_type": "code",
   "execution_count": 17,
   "id": "68aede70",
   "metadata": {},
   "outputs": [
    {
     "data": {
      "text/plain": [
       "(266, 40000)"
      ]
     },
     "execution_count": 17,
     "metadata": {},
     "output_type": "execute_result"
    }
   ],
   "source": [
    "data_qcons_t = data_qcons.T\n",
    "data_qcons_t.shape"
   ]
  },
  {
   "cell_type": "code",
   "execution_count": 18,
   "id": "c705d579",
   "metadata": {},
   "outputs": [
    {
     "name": "stdout",
     "output_type": "stream",
     "text": [
      "21\n"
     ]
    }
   ],
   "source": [
    "print(data_qcons_t.duplicated().sum())"
   ]
  },
  {
   "cell_type": "code",
   "execution_count": 19,
   "id": "813d06a4",
   "metadata": {},
   "outputs": [
    {
     "data": {
      "text/plain": [
       "(40000, 245)"
      ]
     },
     "execution_count": 19,
     "metadata": {},
     "output_type": "execute_result"
    }
   ],
   "source": [
    "data_cons_dup = data_qcons_t.drop_duplicates(keep='first').T\n",
    "data_cons_dup.shape"
   ]
  },
  {
   "cell_type": "code",
   "execution_count": null,
   "id": "c449194a",
   "metadata": {},
   "outputs": [],
   "source": []
  }
 ],
 "metadata": {
  "kernelspec": {
   "display_name": "Python 3 (ipykernel)",
   "language": "python",
   "name": "python3"
  },
  "language_info": {
   "codemirror_mode": {
    "name": "ipython",
    "version": 3
   },
   "file_extension": ".py",
   "mimetype": "text/x-python",
   "name": "python",
   "nbconvert_exporter": "python",
   "pygments_lexer": "ipython3",
   "version": "3.9.13"
  }
 },
 "nbformat": 4,
 "nbformat_minor": 5
}
